{
 "cells": [
  {
   "cell_type": "code",
   "execution_count": 708,
   "id": "swiss-karen",
   "metadata": {},
   "outputs": [],
   "source": [
    "import pandas as pd\n",
    "import numpy  as np\n",
    "from numpy.random import RandomState,MT19937,SeedSequence ,seed,Generator,PCG64\n",
    "import matplotlib.pyplot as M\n",
    "import os \n",
    "import scipy.stats as S\n",
    "import seaborn as sns\n",
    "from abc import ABC,abstractmethod\n",
    "from statsmodels.stats import weightstats as WS\n",
    "# from scipy.stats import ttest_1samp\n",
    "STYLES  = M.style.available\n",
    "RS      = Generator(PCG64(12345))\n",
    "# RandomState(seed=1231231)\n",
    "# RandomState(MT19937(SeedSequence(123456789)))\n",
    "COLORS  = {\n",
    "    'red':'red',\n",
    "    'black':'black',\n",
    "    'pink':'#E91E63',\n",
    "    'indigo':'#3F51B5',\n",
    "    'light_green':\"#8BC34A\",\n",
    "    'light_blue':\"#03A9F4\",\n",
    "    'deep_orange':\"#FF5722\",\n",
    "    'light_orange':\"#FF9800\", \n",
    "    'yellow':'#FFEB3B',\n",
    "    'blue':'#2196F3'\n",
    "} \n",
    "\n",
    "PLOT_STYLES = {\n",
    "    'default':{\n",
    "        'figsize':(10,10),\n",
    "        'axisbelow':True,\n",
    "        'hist_color':COLORS['deep_orange'],\n",
    "        'kde_color': COLORS['light_orange'],\n",
    "        'mean_color':COLORS['blue'],\n",
    "        'median_color':COLORS['light_green'],\n",
    "        'kde_shade': True\n",
    "    }, \n",
    "    'alternative0':{\n",
    "        'figsize':(10,10),\n",
    "        'axisbelow':True,\n",
    "        'hist_color':COLORS['black'],\n",
    "        'kde_color': COLORS['indigo'],\n",
    "        'mean_color':COLORS['red'],\n",
    "        'median_color':COLORS['yellow'],\n",
    "        'kde_shade': True\n",
    "    },\n",
    "    'alternative1':{\n",
    "        'figsize':(10,10),\n",
    "        'axisbelow':True,\n",
    "        'hist_color':COLORS['light_green'],\n",
    "        'kde_color': COLORS['light_blue'],\n",
    "        'mean_color':COLORS['light_orange'],\n",
    "        'median_color':COLORS['yellow'],\n",
    "        'kde_shade': True\n",
    "    }\n",
    "}"
   ]
  },
  {
   "cell_type": "code",
   "execution_count": 676,
   "id": "sapphire-dealer",
   "metadata": {},
   "outputs": [],
   "source": [
    "def plotDataHistogram(**kwargs):\n",
    "    X           = kwargs.get(\"X\",[]) \n",
    "    Y           = kwargs.get(\"Y\",[]) \n",
    "    _data       = merge(X,Y)\n",
    "    data        = kwargs.get(\"data\",_data)\n",
    "    bandwidth   = kwargs.get(\"bandwidth\",10)\n",
    "    title       = kwargs.get('title','Data $\\zeta$')\n",
    "    bins        = kwargs.get('bins',300)\n",
    "    show_kde    = kwargs.get('show_kde',False)\n",
    "    show_hist   = kwargs.get('show_hist',False)\n",
    "    show_mean   = kwargs.get('show_mean',False)\n",
    "    show_median = kwargs.get('show_median',False)\n",
    "    image_name  = kwargs.get(\"image_name\",None)\n",
    "    xLabel      = kwargs.get(\"xLabel\",\"X = Avg. Response time($ART$)\")\n",
    "    style       = kwargs.get(\"style\",{\n",
    "                'figsize':(10,10),\n",
    "                'axisbelow':True,\n",
    "                'hist_color':COLORS['deep_orange'],\n",
    "                'kde_color': COLORS['light_orange'],\n",
    "                'mean_color':COLORS['blue'],\n",
    "                'median_color':COLORS['light_green'],\n",
    "                'kde_shade': True\n",
    "    })\n",
    "#         figsize = (10,10)\n",
    "#     _,ax1 = \n",
    "    ax          = kwargs.get('ax')\n",
    "    if(not ax):\n",
    "        _,ax = M.subplots(figsize=style['figsize'])\n",
    "        \n",
    "    ax.set_title(title)\n",
    "    ax.set_xlabel(xLabel)\n",
    "    ax.set_ylabel(\"$Density$\")\n",
    "#     \n",
    "    data_df = pd.DataFrame(data)\n",
    "    if(show_hist):\n",
    "        data_df[0].plot.hist(density=1,bins=bins,color=style['hist_color'],ax=ax,label=title)\n",
    "    if(show_kde):\n",
    "        sns.kdeplot(data,\n",
    "                    color=style['kde_color'],\n",
    "                    shade=style['kde_shade'],\n",
    "                    ax=ax,\n",
    "                    label=\"Kernel Density Estimation($KDE$)\",\n",
    "                    bw_adjust = bandwidth\n",
    "                   )\n",
    "#         data_df[0].plot.density(ax=ax,color=\"red\",label=\"Kernel Density Estimation(KDE)\")\n",
    "        \n",
    "#   GRID STYLE  \n",
    "    ax.set_axisbelow(style['axisbelow'])\n",
    "    M.grid(color=\"white\")\n",
    "    ax.yaxis.grid(color='white', linestyle='dashed')\n",
    "#   END GRID STYLE  \n",
    "    if(show_mean):\n",
    "        ax.axvline(data.mean(),ymin=0,ymax=1,color=style['mean_color'],label=\"Mean($\\\\bar{X}$)\")\n",
    "    if(show_median):\n",
    "        ax.axvline(np.median(data),ymin=0,ymax=1,color=style['median_color'],label=\"Median(X)\")\n",
    "#     sns.kdeplot(data=data,ax=ax,color=\"red\")\n",
    "#     hist,bins = np.histogram(data)\n",
    "#     ax.hist(hist,bins=bins,density=True,color=\"blue\")\n",
    "#     print(hist,bins)\n",
    "    M.legend()\n",
    "    if(image_name):\n",
    "        M.savefig(image_name,dpi=300)\n",
    "#     M.show()\n",
    "    return ax\n",
    "    \n"
   ]
  },
  {
   "cell_type": "markdown",
   "id": "occupational-panama",
   "metadata": {},
   "source": [
    "# Synthetic Data"
   ]
  },
  {
   "cell_type": "code",
   "execution_count": 460,
   "id": "operational-blond",
   "metadata": {},
   "outputs": [
    {
     "data": {
      "image/png": "[encoded data removed]",
      "text/plain": [
       "<Figure size 720x720 with 1 Axes>"
      ]
     },
     "metadata": {},
     "output_type": "display_data"
    },
    {
     "data": {
      "text/plain": [
       "<AxesSubplot:>"
      ]
     },
     "execution_count": 460,
     "metadata": {},
     "output_type": "execute_result"
    },
    {
     "data": {
      "image/png": "[encoded data removed]",
      "text/plain": [
       "<Figure size 792x360 with 1 Axes>"
      ]
     },
     "metadata": {
      "needs_background": "light"
     },
     "output_type": "display_data"
    }
   ],
   "source": [
    "# with M.style.context(STYLES[22]):\n",
    "with M.style.context(\"dark_background\"):\n",
    "#     \n",
    "\n",
    "    norm   = NormalDistribution(loc=0,scale=1)\n",
    "    erlang = ErlangDistribution(loc=0,scale=1,a=5)\n",
    "    data   = generateFractionSample(size=10000,distributions=[norm,erlang],fractions= [0.90,.10])\n",
    "#     data   = generateFractionSample(size=10000,distributions=[norm])\n",
    "#     print(data.mean(),np.median(data),np.std(data))\n",
    "    title           = \"Synthetic data\"\n",
    "    ax = plotDataHistogram(\n",
    "        data=data,\n",
    "        title=title,\n",
    "        show_kde=True,\n",
    "        show_hist=False,\n",
    "        show_mean=not True,\n",
    "        show_median=not True, \n",
    "        bins=200,\n",
    "        bandwidth= 1,\n",
    "#         image_name=\"normal_kde\",\n",
    "        xLabel =\"\"\n",
    "    )\n",
    "    M.show()\n",
    "_,ax = M.subplots(figsize=(11,5))\n",
    "sns.boxplot(data=data,color=COLORS['pink'],orient='h',ax=ax)\n",
    "#     print(data.mean())"
   ]
  },
  {
   "cell_type": "markdown",
   "id": "complete-updating",
   "metadata": {},
   "source": [
    "## Hypothesis Testing"
   ]
  },
  {
   "cell_type": "markdown",
   "id": "digital-sleep",
   "metadata": {},
   "source": [
    "###  Z-test\n",
    "A z-test is a statistical test used to determine whether two population means are different when the variances are known and the sample size is large.\n",
    "\n",
    "Use a Z test only if you match the following conditions: \n",
    "- The sample size is greater than 30. Otherwise use a T-test.\n",
    "- The data points must be independent from each other.\n",
    "- Data should be normally distributed.\n",
    "- Data must be select using a probabilistic sampling method.\n"
   ]
  },
  {
   "cell_type": "code",
   "execution_count": 558,
   "id": "backed-nudist",
   "metadata": {},
   "outputs": [
    {
     "name": "stdout",
     "output_type": "stream",
     "text": [
      "-0.028207783172760514\n",
      "NULL HYPOTHESIS(H0) [ACCEPTED]\n"
     ]
    },
    {
     "data": {
      "text/plain": [
       "{'Z_SCORE': -0.2984552429968061, 'P_VALUE': 0.6173221343890052}"
      ]
     },
     "execution_count": 558,
     "metadata": {},
     "output_type": "execute_result"
    }
   ],
   "source": [
    "norm = NormalDistribution(loc=0,scale=1)\n",
    "ztest0 = ZTest(alpha=0.05)\n",
    "s100 =norm.sample(size =100,loc=100,scale=1)\n",
    "s1000 =norm.sample(size =1000,loc=0,scale=1)\n",
    "value = 100\n",
    "# print(s100.mean()-value)\n",
    "# ztest0.test(x1 =s100,x2=None,value=0,alternative=\"smaller\")\n",
    "# ztest0.test(x1 =s100,x2=None,value=value,alternative=\"larger\")\n",
    "# ztest0.test(x1 =s100,x2=None,value=value)"
   ]
  },
  {
   "cell_type": "markdown",
   "id": "expired-consultation",
   "metadata": {},
   "source": [
    "## T-test"
   ]
  },
  {
   "cell_type": "code",
   "execution_count": 615,
   "id": "disturbed-supplement",
   "metadata": {},
   "outputs": [
    {
     "data": {
      "image/png": "[encoded data removed]",
      "text/plain": [
       "<Figure size 720x720 with 1 Axes>"
      ]
     },
     "metadata": {
      "needs_background": "light"
     },
     "output_type": "display_data"
    }
   ],
   "source": [
    "norm   = NormalDistribution(loc=5,scale=1)\n",
    "erlang = ErlangDistribution(loc=0,scale=1,a=1)\n",
    "data   = generateFractionSample(size=1000,distributions=[norm,erlang],fractions=[.90,.10])\n",
    "plotDataHistogram(\n",
    "    data        = data,\n",
    "    show_kde    = True,\n",
    "    show_hist   = False,\n",
    "    show_mean   = True,\n",
    "    show_median = not True, \n",
    "    bins        = 200,\n",
    "    bandwidth   = 1,\n",
    "    title       = \"Synthetic data\",\n",
    "    xLabel      = \"X\"\n",
    ")\n",
    "M.show()"
   ]
  },
  {
   "cell_type": "code",
   "execution_count": 630,
   "id": "increasing-intake",
   "metadata": {},
   "outputs": [
    {
     "name": "stdout",
     "output_type": "stream",
     "text": [
      "TRUE MEAN: 4.605864765052002\n",
      "NULL HYPOTHESIS(H0) [ACCEPTED]\n"
     ]
    },
    {
     "data": {
      "text/plain": [
       "Ttest_1sampResult(statistic=-0.8818654630160607, pvalue=0.37806169500957776)"
      ]
     },
     "execution_count": 630,
     "metadata": {},
     "output_type": "execute_result"
    }
   ],
   "source": [
    "ttest0 = TTest(alpha=0.05)\n",
    "# print(\"TRUE MEAN: {}\".format(data.mean()))\n",
    "ttest0.test(data=data,mean=4.65)"
   ]
  },
  {
   "cell_type": "markdown",
   "id": "super-garage",
   "metadata": {},
   "source": [
    "### ANOVA(F-Test)\n",
    "- $H_{o} \\to \\mu_{i} = \\mu_{i} \\text{ for all i} \\neq \\text{i}$\n",
    "- $H_{A} \\to \\mu_{i} \\neq \\mu_{i} \\text{ for all i }\\neq \\text{i}$"
   ]
  },
  {
   "cell_type": "code",
   "execution_count": 723,
   "id": "appointed-example",
   "metadata": {},
   "outputs": [
    {
     "data": {
      "image/png": "[encoded data removed]",
      "text/plain": [
       "<Figure size 720x720 with 1 Axes>"
      ]
     },
     "metadata": {
      "needs_background": "light"
     },
     "output_type": "display_data"
    }
   ],
   "source": [
    "norm   = NormalDistribution(loc=5,scale=1)\n",
    "# erlang = ErlangDistribution(loc=0,scale=1,a=1)\n",
    "data   =[ \n",
    "    norm.sample(size=1000,loc=5.1,scale=1),\n",
    "    norm.sample(size=1000,loc=5.1,scale=1),\n",
    "    norm.sample(size=1000,loc=5.2,scale=1),\n",
    "]\n",
    "# _,ax0 =  M.subplots(figsize=(10,10))\n",
    "plot_parameters = [\n",
    "    {\n",
    "        'data'        : data[0],\n",
    "        'show_kde'    : True,\n",
    "        'show_hist'   : False,\n",
    "        'show_mean'   : True,\n",
    "        'show_median' : not True, \n",
    "        'bins'        : 200,\n",
    "        'bandwidth'   : 1,\n",
    "        'title'       : \"Synthetic data\",\n",
    "        'xLabel'      : \"X\",\n",
    "        'style'       : PLOT_STYLES['default'],\n",
    "    },\n",
    "    {\n",
    "        'data'        : data[1],\n",
    "        'show_kde'    : True,\n",
    "        'show_hist'   : False,\n",
    "        'show_mean'   : True,\n",
    "        'show_median' : not True, \n",
    "        'bins'        : 200,\n",
    "        'bandwidth'   : 1,\n",
    "        'title'       : \"Synthetic data\",\n",
    "        'xLabel'      : \"X\",\n",
    "        'style'       : PLOT_STYLES['alternative0'],\n",
    "    },\n",
    "    {\n",
    "        'data'        : data[2],\n",
    "        'show_kde'    : True,\n",
    "        'show_hist'   : False,\n",
    "        'show_mean'   : True,\n",
    "        'show_median' : not True, \n",
    "        'bins'        : 200,\n",
    "        'bandwidth'   : 1,\n",
    "        'title'       : \"Synthetic data\",\n",
    "        'xLabel'      : \"X\",\n",
    "        'style'       : PLOT_STYLES['alternative1'],\n",
    "    }\n",
    "]\n",
    "_,ax = M.subplots(figsize=(10,10))\n",
    "for plot_params in plot_parameters:\n",
    "    plot_params['ax']=ax\n",
    "    plotDataHistogram(**plot_params)\n",
    "\n",
    "M.show()"
   ]
  },
  {
   "cell_type": "code",
   "execution_count": 725,
   "id": "engaged-adaptation",
   "metadata": {},
   "outputs": [
    {
     "name": "stdout",
     "output_type": "stream",
     "text": [
      "NULL HYPOTHESIS(H0) [ACCEPTED]\n"
     ]
    },
    {
     "data": {
      "text/plain": [
       "{'F_SCORE': 3.230802907559575, 'P_VALUE': 0.03966345436448154}"
      ]
     },
     "execution_count": 725,
     "metadata": {},
     "output_type": "execute_result"
    }
   ],
   "source": [
    "fTest = FTest(alpha=.01)\n",
    "fTest.test(data=data)"
   ]
  },
  {
   "cell_type": "markdown",
   "id": "blind-roads",
   "metadata": {},
   "source": [
    "# Exercise 3"
   ]
  },
  {
   "cell_type": "code",
   "execution_count": 798,
   "id": "motivated-documentary",
   "metadata": {},
   "outputs": [],
   "source": [
    "erlang  = ErlangDistribution(a=10,loc=0,scale=1)\n",
    "laplace = LaplaceDistribution(loc=5,scale=1)\n",
    "pareto  = ParetoDistribution(b=10,loc=0,scale=1)\n",
    "expon   = ExponentialDistribution(loc=0,scale=1)\n",
    "gamma   = GammaDistribution(a=11,loc=0,scale=1)\n",
    "raw_data , data= generateFractionSample(\n",
    "    size=5000,\n",
    "    distributions = [\n",
    "                    erlang,\n",
    "                     laplace,\n",
    "                     pareto,\n",
    "                     expon,\n",
    "                     gamma\n",
    "                    ]\n",
    ")\n",
    "# data"
   ]
  },
  {
   "cell_type": "code",
   "execution_count": 801,
   "id": "according-ranch",
   "metadata": {},
   "outputs": [
    {
     "data": {
      "image/png": "[encoded data removed]",
      "text/plain": [
       "<Figure size 720x720 with 1 Axes>"
      ]
     },
     "metadata": {
      "needs_background": "light"
     },
     "output_type": "display_data"
    }
   ],
   "source": [
    "plotDataHistogram(\n",
    "    data        = data,\n",
    "    show_kde    = True,\n",
    "    show_hist   = not True,\n",
    "    show_mean   = True,\n",
    "    show_median = not True, \n",
    "    bins        = 200,\n",
    "    bandwidth   = 1,\n",
    "    title       = \"Synthetic data\",\n",
    "    xLabel      = \"X\"\n",
    ")\n",
    "M.show()"
   ]
  },
  {
   "cell_type": "markdown",
   "id": "detailed-diagnosis",
   "metadata": {},
   "source": [
    "### Kruskal-Wallis\n",
    "The Kruskal-Wallis H-test tests the null hypothesis that the population median of all of the groups are equal. It is a non-parametric version of ANOVA\n",
    "\n",
    "- $H_{o} \\to  Me_{i} = Me_{i} \\text{ for all i }\\neq \\text{ i}$"
   ]
  },
  {
   "cell_type": "code",
   "execution_count": 802,
   "id": "invalid-ceramic",
   "metadata": {},
   "outputs": [
    {
     "data": {
      "text/plain": [
       "KruskalResult(statistic=4207.196259586803, pvalue=0.0)"
      ]
     },
     "execution_count": 802,
     "metadata": {},
     "output_type": "execute_result"
    }
   ],
   "source": [
    "S.kruskal(*raw_data)"
   ]
  },
  {
   "cell_type": "markdown",
   "id": "registered-recovery",
   "metadata": {},
   "source": [
    "### Mann-Whitney U Test\n",
    "The Mann-Whitney U test is a nonparametric test of the null hypothesis that the distribution underlying sample x is the same as the distribution underlying sample y. It is often used as a test of difference in location between distributions."
   ]
  },
  {
   "cell_type": "code",
   "execution_count": 809,
   "id": "actual-insurance",
   "metadata": {},
   "outputs": [
    {
     "data": {
      "text/plain": [
       "MannwhitneyuResult(statistic=500000.0, pvalue=0.4999845528874244)"
      ]
     },
     "execution_count": 809,
     "metadata": {},
     "output_type": "execute_result"
    }
   ],
   "source": [
    "S.mannwhitneyu(raw_data[0],raw_data[0])"
   ]
  },
  {
   "cell_type": "markdown",
   "id": "difficult-hepatitis",
   "metadata": {},
   "source": [
    "### Wilcoxon signed rank test\n",
    "The Wilcoxon signed-rank test tests the null hypothesis that two related paired samples come from the same distribution. In particular, it tests whether the distribution of the differences x - y is symmetric about zero. It is a non-parametric version of the paired T-test."
   ]
  },
  {
   "cell_type": "code",
   "execution_count": 811,
   "id": "outside-faith",
   "metadata": {},
   "outputs": [
    {
     "data": {
      "text/plain": [
       "WilcoxonResult(statistic=0.0, pvalue=3.325859118934513e-165)"
      ]
     },
     "execution_count": 811,
     "metadata": {},
     "output_type": "execute_result"
    }
   ],
   "source": [
    "S.wilcoxon(raw_data[0])"
   ]
  },
  {
   "cell_type": "code",
   "execution_count": 478,
   "id": "positive-northern",
   "metadata": {},
   "outputs": [
    {
     "data": {
      "image/png": "[encoded data removed]",
      "text/plain": [
       "<Figure size 720x720 with 1 Axes>"
      ]
     },
     "metadata": {},
     "output_type": "display_data"
    }
   ],
   "source": [
    "with M.style.context(\"dark_background\"):\n",
    "#     _,ax = plt.subplots(figsize=(10,10))\n",
    "#     ax.set_xlabel(\"Avg. Service time($AST$)\")\n",
    "    folder_path = \"./wl_peers_3\"\n",
    "    _,SN = getSortedFileNames(folder_path)\n",
    "    responseTimes = np.array([])\n",
    "    data = readCSV(folder_path =folder_path ,\n",
    "                       filename=SN[1],\n",
    "                       names=[\"D0\",\"D1\",\"D2\",\"D3\",\"D4\",\"D5\",\"D6\"]\n",
    "                  )\n",
    "    servicesTimes,AVG_ST= getST(data,cmds =[\"REPLICATION\",\"REPLICA_SAVED_SUCCESSFULLY\"],step=33,column=\"ARRIVAL_TIME\")\n",
    "#     print(servicesTimes.median())\n",
    "#   Style  \n",
    "    title = \"Storage node\"\n",
    "    ax = plotDataHistogram(\n",
    "                      data=servicesTimes,\n",
    "                      title=title,\n",
    "                      show_kde=True,\n",
    "                      show_hist=False,\n",
    "                      show_median=True,\n",
    "                      show_mean=True,\n",
    "                      bins=10,\n",
    "                     )\n",
    "#     print(servicesTimes)\n",
    "#     sns.boxplot(data=servicesTimes[servicesTimes<=15])\n",
    "#     plt.savefig(\"dis.png\",dpi=300)\n",
    "#     print(servicesTimes.shape[0])\n",
    "#     sns.kdeplot(data=servicesTimes,fill=True,ax=ax,color=\"red\")"
   ]
  },
  {
   "cell_type": "markdown",
   "id": "different-conditions",
   "metadata": {},
   "source": [
    "# Utils"
   ]
  },
  {
   "cell_type": "code",
   "execution_count": 694,
   "id": "australian-pennsylvania",
   "metadata": {},
   "outputs": [],
   "source": [
    "    \n",
    "class HypothesisTesting(ABC):\n",
    "    def __init__(self,**kwargs):\n",
    "        self.alpha = kwargs.get(\"alpha\",0.05)\n",
    "        self.data  = kwargs.get('data',[])\n",
    "    @abstractmethod\n",
    "    def test(self,**kwargs):\n",
    "        pass\n",
    "    @staticmethod\n",
    "    def checkPvalue(pvalue,alpha):\n",
    "        if(pvalue < alpha):\n",
    "            print(\"NULL HYPOTHESIS(H0) [REJECTED]\")\n",
    "        else:\n",
    "            print(\"NULL HYPOTHESIS(H0) [ACCEPTED]\")\n",
    "\n",
    "class ZTest(HypothesisTesting):\n",
    "    def __init__(self,**kwargs):\n",
    "        super().__init__(**kwargs)\n",
    "    def test(self,**kwargs):\n",
    "        alpha       = kwargs.get('alpha',self.alpha)\n",
    "        x1          = kwargs.get('x1')\n",
    "        x2          = kwargs.get('x2',None)\n",
    "        mean        = kwargs.get('value',0)\n",
    "        ddof        = kwargs.get('ddof',1)\n",
    "        alternative = kwargs.get('alternative','two-sided')\n",
    "        tstat,pvalue= WS.ztest(x1=x1,x2=x2,value=mean,alternative=alternative)\n",
    "#         print(tstat,pvalue)\n",
    "        HypothesisTesting.checkPvalue(pvalue,alpha)\n",
    "#         if(pvalue < alpha):\n",
    "#             print(\"NULL HYPOTHESIS(H0) [REJECTED]\")\n",
    "#         else:\n",
    "#             print(\"NULL HYPOTHESIS(H0) [ACCEPTED]\")\n",
    "        return {'Z_SCORE':tstat,'P_VALUE':pvalue}\n",
    "        \n",
    "    \n",
    "class TTest(HypothesisTesting):\n",
    "    def __init__(self,**kwargs):\n",
    "        super().__init__(**kwargs)\n",
    "    def test(self,**kwargs):\n",
    "        alpha = kwargs.get('alpha',self.alpha)\n",
    "        data  = kwargs.get('data',self.data)\n",
    "        mean  = kwargs.get('mean',0)\n",
    "        result = S.ttest_1samp(data,mean)\n",
    "        HypothesisTesting.checkPvalue(result[1],alpha)\n",
    "#         if(result[1] < alpha):\n",
    "#             print(\"NULL HYPOTHESIS(H0) [REJECTED]\")\n",
    "#         else:\n",
    "#             print(\"NULL HYPOTHESIS(H0) [ACCEPTED]\")\n",
    "#         return result\n",
    "class FTest(HypothesisTesting):\n",
    "    def __init__(self,**kwargs):\n",
    "        super().__init__(**kwargs)\n",
    "    def test(self,**kwargs):\n",
    "        data = kwargs.get('data',[])\n",
    "        alpha = kwargs.get('alpha',self.alpha)\n",
    "        fscore , pvalue = S.f_oneway(*data)\n",
    "        HypothesisTesting.checkPvalue(pvalue,alpha)\n",
    "        return {'F_SCORE':fscore,'P_VALUE':pvalue}\n",
    "        \n",
    "        "
   ]
  },
  {
   "cell_type": "code",
   "execution_count": 785,
   "id": "surgical-court",
   "metadata": {},
   "outputs": [],
   "source": [
    "class Continuous(ABC):\n",
    "    def __init__(self,**kwargs):\n",
    "        self.distribution = kwargs.pop('distribution')\n",
    "        self.parameters   = kwargs \n",
    "    @abstractmethod\n",
    "    def sample(**kwargs):\n",
    "        pass\n",
    "    def mean(self,**kwargs):\n",
    "        parameters = kwargs or self.parameters\n",
    "        print(parameters)\n",
    "        return self.distribution.mean(**parameters)\n",
    "    def std(self,**kwargs):\n",
    "        parameters = kwargs or self.parameters\n",
    "        return self.distribution.std(**parameters)\n",
    "    def variance(self,**kwargs):\n",
    "        parameters = kwargs or self.parameters\n",
    "        return self.distribution.var(**parameters)\n",
    "    def median(self,**kwargs):\n",
    "        parameters = kwargs or self.parameters\n",
    "        return self.distribution.median(**parameters)\n",
    "\n",
    "class NormalDistribution(Continuous):\n",
    "    def __init__(self,**kwargs):\n",
    "        super().__init__(**kwargs,**{'distribution':S.norm})\n",
    "    def sample(self,**kwargs):\n",
    "        random_state = kwargs.pop(\"random_state\",Generator(PCG64(12345)))\n",
    "        size         = kwargs.pop('size',100)\n",
    "        parameters   = kwargs or self.parameters\n",
    "        return self.distribution.rvs(size=size,**parameters,random_state=random_state)\n",
    "        \n",
    "class ErlangDistribution(Continuous):\n",
    "    def __init__(self,**kwargs):\n",
    "        super().__init__(**kwargs,**{'distribution':S.erlang})\n",
    "    def sample(self,size,**kwargs):\n",
    "        random_state = kwargs.get(\"random_state\",Generator(PCG64(12345)))\n",
    "        return self.distribution.rvs(size=size,**self.parameters,random_state=random_state)\n",
    "    \n",
    "class ExponentialDistribution(Continuous):\n",
    "    def __init__(self,**kwargs):\n",
    "        super().__init__(**kwargs,**{'distribution':S.expon})\n",
    "    def sample(self,size,**kwargs):\n",
    "        random_state = kwargs.get(\"random_state\",Generator(PCG64(12345)))\n",
    "        return self.distribution.rvs(size=size,**self.parameters,random_state=random_state)\n",
    "class ParetoDistribution(Continuous):\n",
    "    def __init__(self,**kwargs):\n",
    "        super().__init__(**kwargs,**{'distribution':S.pareto})\n",
    "    def sample(self,size,**kwargs):\n",
    "        random_state = kwargs.get(\"random_state\",Generator(PCG64(12345)))\n",
    "        return self.distribution.rvs(size=size,**self.parameters,random_state=random_state)\n",
    "class GammaDistribution(Continuous):\n",
    "    def __init__(self,**kwargs):\n",
    "        super().__init__(**kwargs,**{'distribution':S.gamma})\n",
    "    def sample(self,size,**kwargs):\n",
    "        random_state = kwargs.get(\"random_state\",Generator(PCG64(12345)))\n",
    "        return self.distribution.rvs(size=size,**self.parameters,random_state=random_state)\n",
    "class BetaDistribution(Continuous):\n",
    "    def __init__(self,**kwargs):\n",
    "        super().__init__(**kwargs,**{'distribution':S.beta})\n",
    "    def sample(self,size,**kwargs):\n",
    "        random_state = kwargs.get(\"random_state\",Generator(PCG64(12345)))\n",
    "        return self.distribution.rvs(size=size,**self.parameters,random_state=random_state)\n",
    "class CauchyDistribution(Continuous):\n",
    "    def __init__(self,**kwargs):\n",
    "        super().__init__(**kwargs,**{'distribution':S.cauchy})\n",
    "    def sample(self,size,**kwargs):\n",
    "        random_state = kwargs.get(\"random_state\",Generator(PCG64(12345)))\n",
    "        return self.distribution.rvs(size=size,**self.parameters,random_state=random_state)\n",
    "class LaplaceDistribution(Continuous):\n",
    "    def __init__(self,**kwargs):\n",
    "        super().__init__(**kwargs,**{'distribution':S.laplace})\n",
    "    def sample(self,size,**kwargs):\n",
    "        random_state = kwargs.get(\"random_state\",Generator(PCG64(12345)))\n",
    "        return self.distribution.rvs(size=size,**self.parameters,random_state=random_state)"
   ]
  },
  {
   "cell_type": "code",
   "execution_count": 795,
   "id": "twenty-trick",
   "metadata": {},
   "outputs": [],
   "source": [
    "def generateFractionSample(**kwargs):\n",
    "    distributions = kwargs.get('distributions',[])\n",
    "    size          = kwargs.get('size',1000)\n",
    "    lenDist       = len(distributions)\n",
    "    fractions     = kwargs.get('fractions',[1/lenDist]*lenDist)\n",
    "    totalFrac     = sum(fractions)\n",
    "#     print(fractions,sum(fractions))\n",
    "    if(lenDist == 0): raise Exception(\"No distributions\")\n",
    "    elif(not totalFrac == 1): raise Exception(\"The sum of the fractions must be equal to one\")\n",
    "    data = np.array([])\n",
    "    raw_data = []\n",
    "    for fraction,distribution in zip(fractions,distributions):\n",
    "        sample = distribution.sample(size = int(size*fraction))\n",
    "        data  = np.append(data,sample)\n",
    "        raw_data.append(sample)\n",
    "        \n",
    "    return raw_data,data\n",
    "# \n",
    "    \n",
    "\n",
    "def merge(x,y):\n",
    "    return np.append(x,y)\n",
    "MAX_EXPERIMENTS = 50\n",
    "\n",
    "def calculateAVGServiceTime(start,end):\n",
    "    return (end-start).mean()\n",
    "def getSortedFileNames(folder_path):\n",
    "    files = os.listdir(folder_path)\n",
    "    cs = list(filter(lambda x:x.startswith(\"cs\"),files))\n",
    "    sn = list(filter(lambda x:x.startswith(\"sn\"),files))\n",
    "    cs.sort(key = lambda x: int(x.split(\"_\")[0].split(\"-\")[1]))\n",
    "    sn.sort(key = lambda x : int( x.split(\"-\")[1] ))\n",
    "    return cs,sn\n",
    "\n",
    "def readCSV(**kwargs):\n",
    "    mandatory_names = [\"ARRIVAL_TIME\",\"NODE_ID\",\"RELATIVE_TIME\",\"LOG_LEVEL\",\"THREAD\",\"COMMAND\"]\n",
    "    default_names   = [\"D0\",\"D1\",\"D2\"]\n",
    "    folder_path     = kwargs.get(\"folder_path\")\n",
    "    filename        = kwargs.get(\"filename\",None)\n",
    "    if not filename: raise Exception(\"NO FILENAME\")\n",
    "    names = mandatory_names+kwargs.get(\"names\",default_names)\n",
    "    return pd.read_csv(\"{}/{}\".format(folder_path,filename),header=None,sep=\" \",names=names)\n",
    "def getDataByCommand(data,cmd,**kwargs):\n",
    "    reset_index  = kwargs.get(\"reset_index\",True)\n",
    "    D = data[data[\"COMMAND\"]==cmd]\n",
    "    if(reset_index):\n",
    "        return D.reset_index(drop=True)\n",
    "    else:\n",
    "        return D\n",
    "    \n",
    "def getST(data,**kwargs):\n",
    "    cmds      = kwargs.get(\"cmds\",[])\n",
    "    time_col  =  kwargs.get(\"column\",\"ARRIVAL_TIME\")\n",
    "    step      = kwargs.get(\"step\",11)\n",
    "#     \n",
    "    if not (len(cmds) == 2) : raise Exception(\"NO CMDS \")\n",
    "    UFCS = getDataByCommand( data, cmds[1])\n",
    "    RUN  = getDataByCommand(data,cmds[0])\n",
    "    STs  = np.array([])\n",
    "    for i in range(MAX_EXPERIMENTS):\n",
    "        mask = [(step*i),(i+1)*step]\n",
    "        ufcs = UFCS[mask[0]:mask[1]]\n",
    "        run  = RUN[mask[0]:mask[1]]\n",
    "        st = calculateAVGServiceTime(run[time_col],ufcs[time_col])\n",
    "        STs = np.append(STs,[st])\n",
    "    STs = STs[~np.isnan(STs)]\n",
    "    return STs,STs.mean()"
   ]
  },
  {
   "cell_type": "code",
   "execution_count": 466,
   "id": "unnecessary-wiring",
   "metadata": {},
   "outputs": [],
   "source": [
    "# {'AA':2} or {}"
   ]
  },
  {
   "cell_type": "markdown",
   "id": "characteristic-tracker",
   "metadata": {},
   "source": [
    "## Storage nodes "
   ]
  },
  {
   "cell_type": "markdown",
   "id": "declared-halloween",
   "metadata": {},
   "source": [
    "### 3 nodes"
   ]
  },
  {
   "cell_type": "code",
   "execution_count": 467,
   "id": "sealed-retention",
   "metadata": {},
   "outputs": [
    {
     "name": "stdout",
     "output_type": "stream",
     "text": [
      "Storage node[0]\n",
      "Response time = 617.2727272727274 ms\n",
      "Avg. Service time: 12.345454545454547 ms\n",
      "n: 50\n",
      "__________________________________________________\n",
      "Storage node[1]\n",
      "Response time = 573.4848484848484 ms\n",
      "Avg. Service time: 11.469696969696967 ms\n",
      "n: 50\n",
      "__________________________________________________\n",
      "Avg. Response time: 595.3787878787879\n"
     ]
    }
   ],
   "source": [
    "folder_path = \"./wl_peers_3\"\n",
    "def showStorageNodeMetrics(folder_path):\n",
    "    _,SN = getSortedFileNames(folder_path)\n",
    "    responseTimes = np.array([])\n",
    "    for  i in range(len(SN)-1):\n",
    "        print(\"Storage node[{}]\".format(i))\n",
    "        data = readCSV(folder_path =folder_path ,\n",
    "                       filename=SN[i],\n",
    "                       names=[\"D0\",\"D1\",\"D2\",\"D3\",\"D4\",\"D5\",\"D6\"]\n",
    "                      )\n",
    "        servicesTimes,AVG_ST= getST(data,cmds =[\"REPLICATION\",\"REPLICA_SAVED_SUCCESSFULLY\"],step=33,column=\"ARRIVAL_TIME\")\n",
    "        rt = servicesTimes.sum()\n",
    "        responseTimes = np.append(responseTimes,[rt])\n",
    "        print(\"Response time = {} ms\\nAvg. Service time: {} ms\\nn: {}\".format(\n",
    "            rt, \n",
    "            AVG_ST,\n",
    "            servicesTimes.shape[0]\n",
    "        ))\n",
    "        print(\"_\"*50)\n",
    "    print(\"Avg. Response time: {}\".format(responseTimes.mean()))\n",
    "showStorageNodeMetrics(folder_path)"
   ]
  },
  {
   "cell_type": "code",
   "execution_count": 468,
   "id": "limiting-tension",
   "metadata": {},
   "outputs": [
    {
     "name": "stdout",
     "output_type": "stream",
     "text": [
      "SAVE_FILE\n",
      "Avg. Service time: 12.59818181818182\n",
      "Response time: 629.909090909091\n",
      "__________________________________________________\n",
      "COMPRESSION\n",
      "Avg. Service time: 19.80060606060606\n",
      "Response time: 990.0303030303031\n",
      "__________________________________________________\n",
      "TOTAL\n",
      "Avg. Service time: 34.22969696969697\n",
      "Response time: 1711.4848484848485\n"
     ]
    }
   ],
   "source": [
    "def showStorageNodeLeaderMetrics(folder_path):\n",
    "    _,SN = getSortedFileNames(folder_path)\n",
    "    leader_data = readCSV(folder_path=folder_path,filename=SN[-1],names=[\"D0\",\"D1\",\"D2\",\"D3\",\"D4\",\"D5\",\"D6\"])\n",
    "    lastCmd = \"SENT_REPLICATION_CMD\"\n",
    "    cmds = [(\"SAVE_FILE_INIT\",\"SAVE_FILE_DONE\",\"SAVE_FILE\"),(\"COMPRESSION_INIT\",\"COMPRESSION_DONE\",\"COMPRESSION\")]\n",
    "    \n",
    "    for init,done,title in cmds:\n",
    "        servicesTimes,avg_st = getST(leader_data,cmds =[init,done],step=33,column=\"ARRIVAL_TIME\")\n",
    "        print(title)\n",
    "        print(\"Avg. Service time: {}\\nResponse time: {}\".format(avg_st,servicesTimes.sum()))\n",
    "        print(\"_\"*50)\n",
    "    servicesTimes,avg_st = getST(leader_data,cmds =[\"UPLOAD_FILE\",lastCmd],step=33,column=\"ARRIVAL_TIME\")\n",
    "    print(\"TOTAL\")\n",
    "    print(\"Avg. Service time: {}\\nResponse time: {}\".format(avg_st,servicesTimes.sum()))\n",
    "    \n",
    "\n",
    "showStorageNodeLeaderMetrics(folder_path)"
   ]
  },
  {
   "cell_type": "markdown",
   "id": "overall-belgium",
   "metadata": {},
   "source": [
    "### 6 nodes"
   ]
  },
  {
   "cell_type": "code",
   "execution_count": 469,
   "id": "accessible-implement",
   "metadata": {},
   "outputs": [
    {
     "name": "stdout",
     "output_type": "stream",
     "text": [
      "SAVE_FILE\n",
      "Avg. Service time: 25.284848484848485\n",
      "Response time: 1264.2424242424242\n",
      "__________________________________________________\n",
      "COMPRESSION\n",
      "Avg. Service time: 263.9273863636364\n",
      "Response time: 13196.36931818182\n",
      "__________________________________________________\n",
      "TOTAL\n",
      "Avg. Service time: 291.35058712121213\n",
      "Response time: 14567.529356060606\n"
     ]
    }
   ],
   "source": [
    "folder_path = \"./wl_peers_6\"\n",
    "showStorageNodeLeaderMetrics(folder_path)"
   ]
  },
  {
   "cell_type": "code",
   "execution_count": 470,
   "id": "hollow-comparison",
   "metadata": {},
   "outputs": [
    {
     "name": "stdout",
     "output_type": "stream",
     "text": [
      "Storage node[0]\n",
      "Response time = 316.4848484848485 ms\n",
      "Avg. Service time: 15.824242424242424 ms\n",
      "n: 20\n",
      "__________________________________________________\n",
      "Storage node[1]\n",
      "Response time = 392.539393939394 ms\n",
      "Avg. Service time: 19.626969696969702 ms\n",
      "n: 20\n",
      "__________________________________________________\n",
      "Storage node[2]\n",
      "Response time = 316.83333333333337 ms\n",
      "Avg. Service time: 15.087301587301589 ms\n",
      "n: 21\n",
      "__________________________________________________\n",
      "Storage node[3]\n",
      "Response time = 486.55327468230695 ms\n",
      "Avg. Service time: 24.327663734115347 ms\n",
      "n: 20\n",
      "__________________________________________________\n",
      "Storage node[4]\n",
      "Response time = 327.939393939394 ms\n",
      "Avg. Service time: 15.61616161616162 ms\n",
      "n: 21\n",
      "__________________________________________________\n",
      "Avg. Response time: 368.0700488758554\n"
     ]
    }
   ],
   "source": [
    "showStorageNodeMetrics(folder_path)"
   ]
  },
  {
   "cell_type": "markdown",
   "id": "entertaining-concern",
   "metadata": {},
   "source": [
    "### 9 nodes "
   ]
  },
  {
   "cell_type": "code",
   "execution_count": 471,
   "id": "quality-ribbon",
   "metadata": {},
   "outputs": [
    {
     "name": "stdout",
     "output_type": "stream",
     "text": [
      "SAVE_FILE\n",
      "Avg. Service time: 30.52845528455284\n",
      "Response time: 1251.6666666666665\n",
      "__________________________________________________\n",
      "COMPRESSION\n",
      "Avg. Service time: 19.487527716186257\n",
      "Response time: 798.9886363636365\n",
      "__________________________________________________\n",
      "TOTAL\n",
      "Avg. Service time: 51.21590909090909\n",
      "Response time: 2099.852272727273\n"
     ]
    }
   ],
   "source": [
    "folder_path = \"./wl_peers_9\"\n",
    "showStorageNodeLeaderMetrics(folder_path)"
   ]
  },
  {
   "cell_type": "code",
   "execution_count": 472,
   "id": "provincial-garlic",
   "metadata": {},
   "outputs": [
    {
     "name": "stdout",
     "output_type": "stream",
     "text": [
      "Storage node[0]\n",
      "Response time = 302.0419580419581 ms\n",
      "Avg. Service time: 23.233996772458315 ms\n",
      "n: 13\n",
      "__________________________________________________\n",
      "Storage node[1]\n",
      "Response time = 308.44848484848484 ms\n",
      "Avg. Service time: 23.726806526806527 ms\n",
      "n: 13\n",
      "__________________________________________________\n",
      "Storage node[2]\n",
      "Response time = 333.5484848484848 ms\n",
      "Avg. Service time: 25.657575757575753 ms\n",
      "n: 13\n",
      "__________________________________________________\n",
      "Storage node[3]\n",
      "Response time = 312.2668997668998 ms\n",
      "Avg. Service time: 24.020530751299987 ms\n",
      "n: 13\n",
      "__________________________________________________\n",
      "Storage node[4]\n",
      "Response time = 312.6565656565657 ms\n",
      "Avg. Service time: 24.050505050505055 ms\n",
      "n: 13\n",
      "__________________________________________________\n",
      "Storage node[5]\n",
      "Response time = 310.56060606060606 ms\n",
      "Avg. Service time: 23.88927738927739 ms\n",
      "n: 13\n",
      "__________________________________________________\n",
      "Storage node[6]\n",
      "Response time = 280.6363636363637 ms\n",
      "Avg. Service time: 21.58741258741259 ms\n",
      "n: 13\n",
      "__________________________________________________\n",
      "Storage node[7]\n",
      "Response time = 263.39393939393943 ms\n",
      "Avg. Service time: 23.944903581267223 ms\n",
      "n: 11\n",
      "__________________________________________________\n",
      "Avg. Response time: 302.9441627816628\n"
     ]
    }
   ],
   "source": [
    "showStorageNodeMetrics(folder_path)"
   ]
  },
  {
   "cell_type": "markdown",
   "id": "qualified-steps",
   "metadata": {},
   "source": [
    "### 12 nodes"
   ]
  },
  {
   "cell_type": "code",
   "execution_count": 473,
   "id": "satisfactory-india",
   "metadata": {},
   "outputs": [
    {
     "name": "stdout",
     "output_type": "stream",
     "text": [
      "SAVE_FILE\n",
      "Avg. Service time: 34.82787878787879\n",
      "Response time: 1741.3939393939393\n",
      "__________________________________________________\n",
      "COMPRESSION\n",
      "Avg. Service time: 1104.3441287878786\n",
      "Response time: 55217.206439393936\n",
      "__________________________________________________\n",
      "TOTAL\n",
      "Avg. Service time: 1141.3973484848484\n",
      "Response time: 57069.867424242424\n"
     ]
    }
   ],
   "source": [
    "folder_path = \"./wl_peers_12\"\n",
    "showStorageNodeLeaderMetrics(folder_path)"
   ]
  },
  {
   "cell_type": "code",
   "execution_count": 474,
   "id": "abandoned-barrel",
   "metadata": {},
   "outputs": [
    {
     "name": "stdout",
     "output_type": "stream",
     "text": [
      "Storage node[0]\n",
      "Response time = 498.030303030303 ms\n",
      "Avg. Service time: 49.8030303030303 ms\n",
      "n: 10\n",
      "__________________________________________________\n",
      "Storage node[1]\n",
      "Response time = 326.3484848484848 ms\n",
      "Avg. Service time: 32.63484848484848 ms\n",
      "n: 10\n",
      "__________________________________________________\n",
      "Storage node[2]\n",
      "Response time = 290.69696969696963 ms\n",
      "Avg. Service time: 29.069696969696963 ms\n",
      "n: 10\n",
      "__________________________________________________\n",
      "Storage node[3]\n",
      "Response time = 317.3636363636364 ms\n",
      "Avg. Service time: 31.736363636363638 ms\n",
      "n: 10\n",
      "__________________________________________________\n",
      "Storage node[4]\n",
      "Response time = 219.5151515151515 ms\n",
      "Avg. Service time: 21.95151515151515 ms\n",
      "n: 10\n",
      "__________________________________________________\n",
      "Storage node[5]\n",
      "Response time = 213.0909090909091 ms\n",
      "Avg. Service time: 21.30909090909091 ms\n",
      "n: 10\n",
      "__________________________________________________\n",
      "Storage node[6]\n",
      "Response time = 298.78787878787875 ms\n",
      "Avg. Service time: 29.878787878787875 ms\n",
      "n: 10\n",
      "__________________________________________________\n",
      "Storage node[7]\n",
      "Response time = 248.93939393939394 ms\n",
      "Avg. Service time: 24.893939393939394 ms\n",
      "n: 10\n",
      "__________________________________________________\n",
      "Storage node[8]\n",
      "Response time = 211.63636363636365 ms\n",
      "Avg. Service time: 21.163636363636364 ms\n",
      "n: 10\n",
      "__________________________________________________\n",
      "Storage node[9]\n",
      "Response time = 277.3636363636364 ms\n",
      "Avg. Service time: 27.736363636363638 ms\n",
      "n: 10\n",
      "__________________________________________________\n",
      "Storage node[10]\n",
      "Response time = 186.06060606060603 ms\n",
      "Avg. Service time: 18.606060606060602 ms\n",
      "n: 10\n",
      "__________________________________________________\n",
      "Avg. Response time: 280.7121212121212\n"
     ]
    }
   ],
   "source": [
    "# folder_path = \"./wl_peers_12\"\n",
    "showStorageNodeMetrics(folder_path)"
   ]
  },
  {
   "cell_type": "markdown",
   "id": "secondary-hearts",
   "metadata": {},
   "source": [
    "### Avg. Arrival time"
   ]
  },
  {
   "cell_type": "code",
   "execution_count": 475,
   "id": "steady-breakdown",
   "metadata": {},
   "outputs": [
    {
     "ename": "NameError",
     "evalue": "name 'nodes3_data' is not defined",
     "output_type": "error",
     "traceback": [
      "\u001b[0;31m---------------------------------------------------------------------------\u001b[0m",
      "\u001b[0;31mNameError\u001b[0m                                 Traceback (most recent call last)",
      "\u001b[0;32m<ipython-input-475-fba15a2964b9>\u001b[0m in \u001b[0;36m<module>\u001b[0;34m\u001b[0m\n\u001b[0;32m----> 1\u001b[0;31m \u001b[0mrun_data\u001b[0m \u001b[0;34m=\u001b[0m \u001b[0mnodes3_data\u001b[0m\u001b[0;34m[\u001b[0m\u001b[0mnodes3_data\u001b[0m\u001b[0;34m[\u001b[0m\u001b[0;34m\"COMMAND\"\u001b[0m\u001b[0;34m]\u001b[0m\u001b[0;34m==\u001b[0m\u001b[0;34m\"RUN\"\u001b[0m\u001b[0;34m]\u001b[0m\u001b[0;34m.\u001b[0m\u001b[0mreset_index\u001b[0m\u001b[0;34m(\u001b[0m\u001b[0mdrop\u001b[0m\u001b[0;34m=\u001b[0m\u001b[0;32mTrue\u001b[0m\u001b[0;34m)\u001b[0m\u001b[0;34m\u001b[0m\u001b[0;34m\u001b[0m\u001b[0m\n\u001b[0m",
      "\u001b[0;31mNameError\u001b[0m: name 'nodes3_data' is not defined"
     ]
    }
   ],
   "source": [
    "run_data = nodes3_data[nodes3_data[\"COMMAND\"]==\"RUN\"].reset_index(drop=True)"
   ]
  },
  {
   "cell_type": "code",
   "execution_count": null,
   "id": "joined-sight",
   "metadata": {},
   "outputs": [],
   "source": [
    "def calculateAVGArrivalTime(xs):\n",
    "    denominator = np.diff(xs).sum()\n",
    "    return denominator/run_data[\"ARRIVAL_TIME\"].shape[0]\n",
    "calculateAVGArrivalTime(run_data[\"ARRIVAL_TIME\"])"
   ]
  },
  {
   "cell_type": "markdown",
   "id": "color-tribune",
   "metadata": {},
   "source": [
    "### Avg. Service time"
   ]
  },
  {
   "cell_type": "code",
   "execution_count": null,
   "id": "czech-track",
   "metadata": {},
   "outputs": [],
   "source": [
    "upload_sent_data = nodes3_data[nodes3_data[\"COMMAND\"]==\"UPLOAD_FILE_COMMAND_SENT\"].reset_index(drop=True)"
   ]
  },
  {
   "cell_type": "code",
   "execution_count": null,
   "id": "pregnant-guarantee",
   "metadata": {},
   "outputs": [],
   "source": [
    "# calculateAVGServiceTime(run_data[\"ARRIVAL_TIME\"],upload_sent_data[\"ARRIVAL_TIME\"])\n",
    "# serviceTimes"
   ]
  }
 ],
 "metadata": {
  "kernelspec": {
   "display_name": "Python 3",
   "language": "python",
   "name": "python3"
  },
  "language_info": {
   "codemirror_mode": {
    "name": "ipython",
    "version": 3
   },
   "file_extension": ".py",
   "mimetype": "text/x-python",
   "name": "python",
   "nbconvert_exporter": "python",
   "pygments_lexer": "ipython3",
   "version": "3.8.5"
  }
 },
 "nbformat": 4,
 "nbformat_minor": 5
}
